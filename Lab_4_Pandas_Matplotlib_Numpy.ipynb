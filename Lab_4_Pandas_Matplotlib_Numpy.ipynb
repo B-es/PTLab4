{
  "cells": [
    {
      "cell_type": "markdown",
      "metadata": {
        "id": "I3g_wSGL3MmR"
      },
      "source": [
        "## Задание по библиотекам Numpy, Pandas и Matplotlib\n",
        "### Лабораторная работа № 4 по дисциплине \"Технологии программирования\"\n",
        "\n",
        "---\n",
        "\n",
        "##### Работу выполнил студент группы САПР-1.1: Васильев Иван\n",
        "\n",
        "##### Вариант: 4\n",
        "\n",
        "---\n",
        "\n",
        "Подключаем необходимые библиотеки:"
      ]
    },
    {
      "cell_type": "code",
      "execution_count": 1,
      "metadata": {
        "executionInfo": {
          "elapsed": 707,
          "status": "ok",
          "timestamp": 1760466816195,
          "user": {
            "displayName": "B-Produce",
            "userId": "16979600547477612933"
          },
          "user_tz": -180
        },
        "id": "5JrhiqZe7TPt",
        "trusted": true
      },
      "outputs": [
        {
          "name": "stderr",
          "output_type": "stream",
          "text": [
            "Matplotlib is building the font cache; this may take a moment.\n"
          ]
        }
      ],
      "source": [
        "import numpy as np\n",
        "import pandas as pd\n",
        "import matplotlib.pyplot as plt"
      ]
    },
    {
      "cell_type": "markdown",
      "metadata": {
        "id": "v0y3-uaQ_0uy"
      },
      "source": [
        "# Numpy\n",
        "\n",
        "f = q ⋅ Σᵢ₌₀⁸⁵ (Np)ᵢ, где i ≠ 37\n",
        "\n",
        "- N ∈ ℕ⁸⁵ˣ⁸⁵\n",
        "\n",
        "- p = {1 + pᵢ : pᵢ ∼ 𝒩(2,4)}⁸⁴ᵢ₌₀\n",
        "\n",
        "- qᵀ = {N₂₄,ⱼ ⊙ N₇₁,ⱼ}⁸⁴ⱼ₌₀"
      ]
    },
    {
      "cell_type": "code",
      "execution_count": 49,
      "metadata": {
        "colab": {
          "base_uri": "https://localhost:8080/"
        },
        "executionInfo": {
          "elapsed": 28,
          "status": "ok",
          "timestamp": 1760466816225,
          "user": {
            "displayName": "B-Produce",
            "userId": "16979600547477612933"
          },
          "user_tz": -180
        },
        "id": "zhe3Yvbt_0uz",
        "outputId": "0facabad-31ad-4f31-9bc0-614058c8022b",
        "trusted": true
      },
      "outputs": [
        {
          "name": "stdout",
          "output_type": "stream",
          "text": [
            "N: [[4 4 5 ... 4 5 4]\n",
            " [4 7 4 ... 4 7 4]\n",
            " [4 4 5 ... 4 5 4]\n",
            " ...\n",
            " [4 4 5 ... 4 5 4]\n",
            " [4 7 4 ... 4 7 4]\n",
            " [4 4 5 ... 4 5 4]]\n",
            "3.9934283060224653 16\n",
            "f: [1551784.96757742 2715623.69326048 1939731.20947177 2715623.69326048\n",
            " 1551784.96757742 3394529.6165756  1551784.96757742 2715623.69326048\n",
            " 1939731.20947177 2715623.69326048 1551784.96757742 3394529.6165756\n",
            " 1551784.96757742 2715623.69326048 1939731.20947177 2715623.69326048\n",
            " 1551784.96757742 3394529.6165756  1551784.96757742 2715623.69326048\n",
            " 1939731.20947177 2715623.69326048 1551784.96757742 3394529.6165756\n",
            " 1551784.96757742 2715623.69326048 1939731.20947177 2715623.69326048\n",
            " 1551784.96757742 3394529.6165756  1551784.96757742 2715623.69326048\n",
            " 1939731.20947177 2715623.69326048 1551784.96757742 3394529.6165756\n",
            " 1551784.96757742 2715623.69326048 1939731.20947177 2715623.69326048\n",
            " 1551784.96757742 3394529.6165756  1551784.96757742 2715623.69326048\n",
            " 1939731.20947177 2715623.69326048 1551784.96757742 3394529.6165756\n",
            " 1551784.96757742 2715623.69326048 1939731.20947177 2715623.69326048\n",
            " 1551784.96757742 3394529.6165756  1551784.96757742 2715623.69326048\n",
            " 1939731.20947177 2715623.69326048 1551784.96757742 3394529.6165756\n",
            " 1551784.96757742 2715623.69326048 1939731.20947177 2715623.69326048\n",
            " 1551784.96757742 3394529.6165756  1551784.96757742 2715623.69326048\n",
            " 1939731.20947177 2715623.69326048 1551784.96757742 3394529.6165756\n",
            " 1551784.96757742 2715623.69326048 1939731.20947177 2715623.69326048\n",
            " 1551784.96757742 3394529.6165756  1551784.96757742 2715623.69326048\n",
            " 1939731.20947177 2715623.69326048 1551784.96757742 3394529.6165756\n",
            " 1551784.96757742]\n"
          ]
        }
      ],
      "source": [
        "np.random.seed(42) # Воспроизводимость\n",
        "\n",
        "n = 85\n",
        "pattern1 = np.array([4,4,5])\n",
        "pattern2 = np.array([4, 7])\n",
        "\n",
        "def get_row(pattern):\n",
        "    repeats = (n + len(pattern) -1 ) // len(pattern)\n",
        "    row = np.tile(pattern, repeats)[:n]\n",
        "    return row\n",
        "\n",
        "matrix_pattern = [0, 1] * int(np.ceil(n / 2))\n",
        "final_indices = matrix_pattern[:n]\n",
        "rows = np.array(list(map(get_row, [pattern1, pattern2])))\n",
        "\n",
        "N = rows[final_indices]\n",
        "print(\"N:\", N)\n",
        "p_i = np.random.normal(loc=2, scale=2, size=n) # Нормальное распределние с мат. ожиданием 2 и отклонением 2\n",
        "p = 1 + p_i\n",
        "\n",
        "Np = N @ p\n",
        "\n",
        "q_T = N[23, :85] * N[70, :85] # ⊙\n",
        "\n",
        "q = q_T.T\n",
        "\n",
        "mask = np.ones(85, dtype=bool)\n",
        "mask[37] = False   # исключаем 37-й элемент (0-based)\n",
        "\n",
        "sum_Np = np.sum(Np[mask])\n",
        "\n",
        "f = q_T * sum_Np\n",
        "\n",
        "print(\"f:\", f)"
      ]
    },
    {
      "cell_type": "code",
      "execution_count": 53,
      "metadata": {
        "trusted": true
      },
      "outputs": [
        {
          "name": "stdout",
          "output_type": "stream",
          "text": [
            "[[  3   2   2 ...   2   2   2]\n",
            " [  2   5   2 ...   2   2   2]\n",
            " [  2   2   7 ...   2   2   2]\n",
            " ...\n",
            " [  2   2   2 ... 167   2   2]\n",
            " [  2   2   2 ...   2 169   2]\n",
            " [  2   2   2 ...   2   2 171]]\n",
            "[ 55.74279269 -23.1436937   -8.9967133   52.51189836  15.58940415\n",
            " 126.99731328  18.94322958   4.91099273 118.62595076  71.35652717\n",
            "  50.16090255   5.26762697  30.57975282  90.21166502  13.9602569\n",
            " 105.03908903  28.77956192  84.58143751  28.74538841 187.72757833\n",
            "  59.46011101  24.76818798  74.32143719  19.5409445   54.68363504\n",
            " -25.74152694   6.87255804  95.02422921  71.63093056 116.99577968\n",
            "  44.29925496  67.13819305   0.85912039  43.68872433  33.25955933\n",
            " 178.99855584  58.99578527 -14.7302487   72.96335878  62.4353923\n",
            "  26.33849599 147.81734022  80.99198472 136.15168667  26.43129907\n",
            "  66.68410695  58.6004298  173.2881589   32.66642439  73.60309731\n",
            "  15.74660104  17.01242905  74.00082632 199.936802    45.69567611\n",
            " 140.19784228  74.465441    47.87329374  59.56465938 212.66255965\n",
            "  46.85356675 171.62004473 -44.78980416 130.02654025  50.78550618]\n"
          ]
        }
      ],
      "source": [
        "M = np.full((n,n), 2)\n",
        "diag_vals = 3+2*np.arange(n)\n",
        "np.fill_diagonal(M, diag_vals)\n",
        "\n",
        "print(M)\n",
        "\n",
        "g = (p * q)[12:77]\n",
        "indices = np.arange(12, 77)\n",
        "diagonal = diag_vals[12:77]\n",
        "indicates = (indices != diagonal).astype(int)\n",
        "\n",
        "g *= indicates\n",
        "\n",
        "print(g)\n"
      ]
    },
    {
      "cell_type": "markdown",
      "metadata": {
        "id": "Gt7F_jsI_0uz"
      },
      "source": [
        "# Pandas и Matplotlib"
      ]
    },
    {
      "cell_type": "markdown",
      "metadata": {
        "id": "fTiVoEbG3uQK"
      },
      "source": [
        "Скачиваем датасет с информацией о пассажирах Титаника:"
      ]
    },
    {
      "cell_type": "code",
      "execution_count": 1,
      "metadata": {
        "colab": {
          "base_uri": "https://localhost:8080/"
        },
        "executionInfo": {
          "elapsed": 1003,
          "status": "ok",
          "timestamp": 1760466817215,
          "user": {
            "displayName": "B-Produce",
            "userId": "16979600547477612933"
          },
          "user_tz": -180
        },
        "id": "0nIDXlQw7cd1",
        "outputId": "e76b6506-b6cf-44c5-833f-ee4fc0cc6c2a",
        "trusted": true
      },
      "outputs": [
        {
          "name": "stderr",
          "output_type": "stream",
          "text": [
            "  % Total    % Received % Xferd  Average Speed   Time    Time     Time  Current\n",
            "                                 Dload  Upload   Total   Spent    Left  Speed\n",
            "\n",
            "  0     0    0     0    0     0      0      0 --:--:-- --:--:-- --:--:--     0\n",
            "  0     0    0     0    0     0      0      0 --:--:-- --:--:-- --:--:--     0\n",
            "100 44225  100 44225    0     0  35772      0  0:00:01  0:00:01 --:--:-- 35867\n"
          ]
        }
      ],
      "source": [
        "!curl -O https://web.stanford.edu/class/archive/cs/cs109/cs109.1166/stuff/titanic.csv"
      ]
    },
    {
      "cell_type": "markdown",
      "metadata": {
        "id": "yMwocgU130uw"
      },
      "source": [
        "Проверяем наличие скачанного датасета:\n",
        "\n"
      ]
    },
    {
      "cell_type": "code",
      "execution_count": null,
      "metadata": {
        "colab": {
          "base_uri": "https://localhost:8080/"
        },
        "executionInfo": {
          "elapsed": 123,
          "status": "ok",
          "timestamp": 1760466817345,
          "user": {
            "displayName": "B-Produce",
            "userId": "16979600547477612933"
          },
          "user_tz": -180
        },
        "id": "TjHPbqhn8YN_",
        "outputId": "28ba8614-815a-49ff-ae2b-5eb630e78b3d",
        "trusted": true
      },
      "outputs": [],
      "source": [
        "!dir"
      ]
    },
    {
      "cell_type": "markdown",
      "metadata": {
        "id": "ItrlSxua9gYK"
      },
      "source": [
        "Значения колонок датасета следующие (__в соответствии с информацией с сайта__):\n",
        "*    Survived Indicator (выжил пассажир или нет)\n",
        "*    Passenger Class (класс)\n",
        "*    Name (имя)\n",
        "*    Sex (пол)\n",
        "*    Age (возраст)\n",
        "*    Siblings/Spouses Aboard (есть ли братья, сестры или супруг(а) на борту)\n",
        "*    Parents/Children Aboard (есть ли родители или дети на борту)\n",
        "*    Fare paid in £s (цена билета в фунтах стерлингов)"
      ]
    },
    {
      "cell_type": "markdown",
      "metadata": {
        "id": "zj6JdCAw4JVf"
      },
      "source": [
        "Загружаем данные и формируем Pandas DataFrame:"
      ]
    },
    {
      "cell_type": "code",
      "execution_count": null,
      "metadata": {
        "colab": {
          "base_uri": "https://localhost:8080/",
          "height": 424
        },
        "executionInfo": {
          "elapsed": 167,
          "status": "ok",
          "timestamp": 1760466817514,
          "user": {
            "displayName": "B-Produce",
            "userId": "16979600547477612933"
          },
          "user_tz": -180
        },
        "id": "Fe59USAb8cA_",
        "outputId": "c87de492-2b25-4ac9-c9e4-053ce08f9faa",
        "trusted": true
      },
      "outputs": [],
      "source": [
        "df = pd.read_csv('titanic.csv')\n",
        "df"
      ]
    },
    {
      "cell_type": "markdown",
      "metadata": {
        "id": "Q-hZYMK_4SZE"
      },
      "source": [
        "__С использованием датафрейма нужно выполнить следующие задания__."
      ]
    },
    {
      "cell_type": "markdown",
      "metadata": {
        "id": "D_sLJDujBF1J"
      },
      "source": [
        "1. Определите, содержит ли какой-нибудь столбец датасета пропущенные значения."
      ]
    },
    {
      "cell_type": "code",
      "execution_count": null,
      "metadata": {
        "colab": {
          "base_uri": "https://localhost:8080/"
        },
        "executionInfo": {
          "elapsed": 24,
          "status": "ok",
          "timestamp": 1760466817539,
          "user": {
            "displayName": "B-Produce",
            "userId": "16979600547477612933"
          },
          "user_tz": -180
        },
        "id": "IUMILEDGBE2e",
        "outputId": "5658649a-84eb-4322-c19f-f56c73599b62",
        "trusted": true
      },
      "outputs": [],
      "source": [
        "# Общее количество пропущенных значений в каждом столбце\n",
        "missing_values = df.isnull().sum()\n",
        "print(\"\\nКоличество пропущенных значений по столбцам:\")\n",
        "print(missing_values)\n",
        "\n",
        "# Столбцы, которые содержат пропущенные значения\n",
        "columns_with_missing = missing_values[missing_values > 0]\n",
        "if len(columns_with_missing) > 0:\n",
        "    print(f\"\\nСтолбцы с пропущенными значениями: {list(columns_with_missing.index)}\")\n",
        "    print(\"\\nДетальная информация:\")\n",
        "    for col in columns_with_missing.index:\n",
        "        missing_percent = (columns_with_missing[col] / len(df)) * 100\n",
        "        print(f\"  {col}: {columns_with_missing[col]} пропусков ({missing_percent:.2f}%)\")\n",
        "else:\n",
        "    print(\"\\nВ датасете нет пропущенных значений!\")"
      ]
    },
    {
      "cell_type": "markdown",
      "metadata": {
        "id": "f9Z9pWUJBcbG"
      },
      "source": [
        "2. В соответствии с вариантом (4), определите:\n",
        "\n",
        "   1. Количество женщин старше 50 лет на борту.\n",
        "   2. Количество пассажиров, путешествующих вторым классом вместе с родителями или детьми.\n",
        "   3. Число погибших детей в возрасте до 12 лет, путешествующих первым классом.\n",
        "   4. Среднее значение коэффициента выживаемости десяти пассажиров третьего класса с самыми дорогими билетами.\n",
        "   5. Среднее значение цены билета пассажиров, путешествующих без родственников."
      ]
    },
    {
      "cell_type": "code",
      "execution_count": null,
      "metadata": {
        "colab": {
          "base_uri": "https://localhost:8080/"
        },
        "executionInfo": {
          "elapsed": 17,
          "status": "ok",
          "timestamp": 1760466817565,
          "user": {
            "displayName": "B-Produce",
            "userId": "16979600547477612933"
          },
          "user_tz": -180
        },
        "id": "oKTGxDszBuaA",
        "outputId": "1c529653-ced3-432c-f2a5-032ac6d6b38a",
        "trusted": true
      },
      "outputs": [],
      "source": [
        "# Фильтруем пассажиров третьего класса\n",
        "third_class = df[df['Pclass'] == 3]\n",
        "\n",
        "# Находим 10 пассажиров третьего класса с самыми дорогими билетами\n",
        "top_10_expensive_third_class = third_class.nlargest(10, 'Fare')\n",
        "\n",
        "# Вычисляем средний коэффициент выживаемости\n",
        "survival_rate = top_10_expensive_third_class['Survived'].mean()\n",
        "\n",
        "print(f\"Всего пассажиров 3-го класса: {len(third_class)}\")\n",
        "print(f\"\\n10 пассажиров 3-го класса с самыми дорогими билетами:\")\n",
        "print(top_10_expensive_third_class[['Name', 'Fare', 'Survived']].to_string(index=False))\n",
        "\n",
        "print(f\"\\nРезультат:\")\n",
        "print(f\"Средний коэффициент выживаемости: {survival_rate:.3f} ({survival_rate*100:.1f}%)\")"
      ]
    },
    {
      "cell_type": "markdown",
      "metadata": {
        "id": "XJ2U4XhVyxQh"
      },
      "source": [
        "3. Постройте диаграмму распределения значений цены билета по всем пассажирам. Проинтерпретируйте результат. Можно ли сказать, что в данных наблюдаются выбросы?"
      ]
    },
    {
      "cell_type": "code",
      "execution_count": null,
      "metadata": {
        "colab": {
          "base_uri": "https://localhost:8080/",
          "height": 1000
        },
        "executionInfo": {
          "elapsed": 2878,
          "status": "ok",
          "timestamp": 1760466820444,
          "user": {
            "displayName": "B-Produce",
            "userId": "16979600547477612933"
          },
          "user_tz": -180
        },
        "id": "DmEJQBYmy6DH",
        "outputId": "15ea7dbf-0aae-43e3-cc9c-9c118ce5bbe6",
        "trusted": true
      },
      "outputs": [],
      "source": [
        "# Создаем фигуру с несколькими графиками\n",
        "fig, axes = plt.subplots(2, 2, figsize=(15, 12))\n",
        "\n",
        "# 1. Гистограмма распределения цен билетов\n",
        "axes[0, 0].hist(df['Fare'], bins=50, edgecolor='black', alpha=0.7, color='skyblue')\n",
        "axes[0, 0].set_title('Распределение цен билетов (гистограмма)')\n",
        "axes[0, 0].set_xlabel('Цена билета (£)')\n",
        "axes[0, 0].set_ylabel('Количество пассажиров')\n",
        "axes[0, 0].grid(True, alpha=0.3)\n",
        "\n",
        "# 2. Box plot для выявления выбросов\n",
        "axes[0, 1].boxplot(df['Fare'])\n",
        "axes[0, 1].set_title('Box plot цен билетов')\n",
        "axes[0, 1].set_ylabel('Цена билета (£)')\n",
        "axes[0, 1].grid(True, alpha=0.3)\n",
        "\n",
        "# 3. Гистограмма с логарифмической шкалой\n",
        "axes[1, 0].hist(df['Fare'], bins=50, edgecolor='black', alpha=0.7, color='lightgreen', log=True)\n",
        "axes[1, 0].set_title('Распределение цен билетов (логарифмическая шкала)')\n",
        "axes[1, 0].set_xlabel('Цена билета (£)')\n",
        "axes[1, 0].set_ylabel('Количество пассажиров (log scale)')\n",
        "axes[1, 0].grid(True, alpha=0.3)\n",
        "\n",
        "# 4. Вертикальные линии для статистических показателей\n",
        "axes[1, 1].hist(df['Fare'], bins=50, edgecolor='black', alpha=0.7, color='lightcoral')\n",
        "axes[1, 1].axvline(df['Fare'].mean(), color='red', linestyle='--', linewidth=2, label=f'Среднее: £{df[\"Fare\"].mean():.1f}')\n",
        "axes[1, 1].axvline(df['Fare'].median(), color='blue', linestyle='--', linewidth=2, label=f'Медиана: £{df[\"Fare\"].median():.1f}')\n",
        "axes[1, 1].axvline(df['Fare'].max(), color='orange', linestyle=':', linewidth=2, label=f'Максимум: £{df[\"Fare\"].max():.1f}')\n",
        "axes[1, 1].set_title('Распределение с основными статистиками')\n",
        "axes[1, 1].set_xlabel('Цена билета (£)')\n",
        "axes[1, 1].set_ylabel('Количество пассажиров')\n",
        "axes[1, 1].legend()\n",
        "axes[1, 1].grid(True, alpha=0.3)\n",
        "\n",
        "plt.tight_layout()\n",
        "plt.show()\n",
        "\n",
        "# Статистический анализ\n",
        "print(\"=== СТАТИСТИЧЕСКИЙ АНАЛИЗ ЦЕН БИЛЕТОВ ===\")\n",
        "print(f\"Общее количество пассажиров: {len(df)}\")\n",
        "print(f\"Минимальная цена билета: £{df['Fare'].min():.2f}\")\n",
        "print(f\"Максимальная цена билета: £{df['Fare'].max():.2f}\")\n",
        "print(f\"Средняя цена билета: £{df['Fare'].mean():.2f}\")\n",
        "print(f\"Медианная цена билета: £{df['Fare'].median():.2f}\")\n",
        "print(f\"Стандартное отклонение: £{df['Fare'].std():.2f}\")\n",
        "\n",
        "# Анализ выбросов\n",
        "Q1 = df['Fare'].quantile(0.25)\n",
        "Q3 = df['Fare'].quantile(0.75)\n",
        "IQR = Q3 - Q1\n",
        "upper_bound = Q3 + 1.5 * IQR\n",
        "\n",
        "outliers = df[df['Fare'] > upper_bound]\n",
        "print(f\"\\n=== АНАЛИЗ ВЫБРОСОВ ===\")\n",
        "print(f\"Q1 (25-й перцентиль): £{Q1:.2f}\")\n",
        "print(f\"Q3 (75-й перцентиль): £{Q3:.2f}\")\n",
        "print(f\"IQR: £{IQR:.2f}\")\n",
        "print(f\"Верхняя граница выбросов: £{upper_bound:.2f}\")\n",
        "print(f\"Количество выбросов: {len(outliers)}\")\n",
        "print(f\"Процент выбросов: {len(outliers)/len(df)*100:.1f}%\")\n",
        "\n",
        "if len(outliers) > 0:\n",
        "    print(f\"\\nСамые дорогие билеты (выбросы):\")\n",
        "    print(outliers[['Name', 'Pclass', 'Fare']].sort_values('Fare', ascending=False).head(10).to_string(index=False))"
      ]
    },
    {
      "cell_type": "markdown",
      "metadata": {
        "id": "7s_F5OTY0Edd"
      },
      "source": [
        "ИНТЕРПРЕТАЦИЯ РЕЗУЛЬТАТОВ:\n",
        "\n",
        "Распределение цен: Большинство билетов имеют низкую стоимость (до £50), распределение сильно скошено вправо.\n",
        "\n",
        "Наличие выбросов: В данных присутствуют значительные выбросы - очень дорогие билеты, которые сильно отличаются от основной массы.\n",
        "\n",
        "Сравнение среднего и медианы:\n",
        "\n",
        "Медиана (£14.45) значительно меньше среднего (£32.20)\n",
        "\n",
        "Это подтверждает правостороннюю асимметрию распределения\n",
        "\n",
        "Выбросы: Около 5% билетов являются выбросами по методу IQR, с самыми дорогими билетами стоимостью до £512.33\n",
        "\n",
        "Практический смысл: Дорогие билеты, вероятно, принадлежали пассажирам первого класса или состоятельным людям, которые могли позволить себе роскошные каюты."
      ]
    },
    {
      "cell_type": "markdown",
      "metadata": {
        "id": "4wieKYl10KdV"
      },
      "source": [
        "4. В соответствии с вариантом (4), определите, верны ли следующие утверждения. Приведите доказательства ответа.\n",
        "\n",
        "    1. Чем дороже билет, тем выше вероятность выжить.\n",
        "    2. Мужчинам в катастрофе выжить проще.\n",
        "    3. Чем больше родственников у человека, тем выше шанс того, что он купит билет третьего класса.\n",
        "    4. Если Вам больше 70 лет, то шансов выжить в катастрофе у Вас практически нет.\n",
        "    5. Чем больше родственников у чаловека, тем выше его шанс погибнуть."
      ]
    },
    {
      "cell_type": "code",
      "execution_count": null,
      "metadata": {
        "colab": {
          "base_uri": "https://localhost:8080/"
        },
        "executionInfo": {
          "elapsed": 21,
          "status": "ok",
          "timestamp": 1760466820482,
          "user": {
            "displayName": "B-Produce",
            "userId": "16979600547477612933"
          },
          "user_tz": -180
        },
        "id": "HoS9d2Su2gMS",
        "outputId": "8f23538e-32ab-4fe5-c90d-fc706d8fe265",
        "trusted": true
      },
      "outputs": [],
      "source": [
        "# Находим пассажиров старше 70 лет\n",
        "humans_70_plus = df[df['Age'] > 70]\n",
        "\n",
        "print(f\"Всего пассажиров старше 70 лет: {len(humans_70_plus)}\")\n",
        "print(f\"Общее количество пассажиров: {len(df)}\")\n",
        "print(f\"Доля пассажиров старше 70 лет: {len(humans_70_plus)/len(df)*100:.2f}%\\n\")\n",
        "\n",
        "if len(humans_70_plus) > 0:\n",
        "    print(\"Детальная информация о пассажирах старше 70 лет:\")\n",
        "    print(humans_70_plus[['Name', 'Age', 'Sex', 'Pclass', 'Survived']].to_string(index=False))\n",
        "\n",
        "    # Статистика выживаемости\n",
        "    survived_count = humans_70_plus['Survived'].sum()\n",
        "    survival_rate = humans_70_plus['Survived'].mean()\n",
        "\n",
        "    print(f\"\\n=== РЕЗУЛЬТАТЫ ===\")\n",
        "    print(f\"Выжило: {survived_count} из {len(humans_70_plus)}\")\n",
        "    print(f\"Коэффициент выживаемости: {survival_rate:.3f} ({survival_rate*100:.1f}%)\")\n",
        "\n",
        "    # Сравнение с общей выживаемостью\n",
        "    overall_survival = df['Survived'].mean()\n",
        "    print(f\"Общая выживаемость: {overall_survival:.3f} ({overall_survival*100:.1f}%)\")\n",
        "\n",
        "    # Анализ по классу\n",
        "    print(f\"\\n=== АНАЛИЗ ПО КЛАССУ ===\")\n",
        "    for pclass in [1, 2, 3]:\n",
        "        class_data = humans_70_plus[humans_70_plus['Pclass'] == pclass]\n",
        "        if len(class_data) > 0:\n",
        "            class_survival = class_data['Survived'].mean()\n",
        "            print(f\"Класс {pclass}: {len(class_data)} чел., выживаемость: {class_survival:.3f}\")\n",
        "\n",
        "else:\n",
        "    print(\"В датасете нет пассажиров старше 70 лет\")"
      ]
    },
    {
      "cell_type": "markdown",
      "metadata": {
        "id": "2at68_9T2hDl"
      },
      "source": [
        "5. Столбец с именем пассажиров вряд ли будет иметь значение для последующего анализа данных. Удалите этот столбец из датафрейма. Выведите на экран полученный датасет."
      ]
    },
    {
      "cell_type": "code",
      "execution_count": null,
      "metadata": {
        "colab": {
          "base_uri": "https://localhost:8080/"
        },
        "executionInfo": {
          "elapsed": 12,
          "status": "ok",
          "timestamp": 1760466820496,
          "user": {
            "displayName": "B-Produce",
            "userId": "16979600547477612933"
          },
          "user_tz": -180
        },
        "id": "t7TviNPz4uH3",
        "outputId": "28206b6a-a6d4-4d6e-fd99-096d35a53d94",
        "trusted": true
      },
      "outputs": [],
      "source": [
        "df = df.drop('Name', axis=1)\n",
        "df.info()"
      ]
    },
    {
      "cell_type": "markdown",
      "metadata": {
        "id": "DBWJZ5wz4vHI"
      },
      "source": [
        "6. Столбец \"пол пассажира\" является категориальным. Закодируйте его с помощью ohe-hot-кодирования (OHE). Выведите на экран полученный датасет."
      ]
    },
    {
      "cell_type": "code",
      "execution_count": null,
      "metadata": {
        "colab": {
          "base_uri": "https://localhost:8080/"
        },
        "executionInfo": {
          "elapsed": 14,
          "status": "ok",
          "timestamp": 1760466820511,
          "user": {
            "displayName": "B-Produce",
            "userId": "16979600547477612933"
          },
          "user_tz": -180
        },
        "id": "BWFDCRTx5U_f",
        "outputId": "15447114-f3e9-4a2b-944a-ad4530ba9641",
        "trusted": true
      },
      "outputs": [],
      "source": [
        "df = pd.get_dummies(df, columns=['Sex'], prefix='Sex')\n",
        "df.info()"
      ]
    },
    {
      "cell_type": "markdown",
      "metadata": {
        "id": "4CPe5nsv5Wom"
      },
      "source": [
        "7. Постройте диаграмму рассеяния между признаками \"Возраст\" и \"Цена билета\". Проинтерпретируйте ответ."
      ]
    },
    {
      "cell_type": "code",
      "execution_count": null,
      "metadata": {
        "colab": {
          "base_uri": "https://localhost:8080/",
          "height": 807
        },
        "executionInfo": {
          "elapsed": 363,
          "status": "ok",
          "timestamp": 1760466820875,
          "user": {
            "displayName": "B-Produce",
            "userId": "16979600547477612933"
          },
          "user_tz": -180
        },
        "id": "WCKp1oox589c",
        "outputId": "0773ab47-b7d1-4411-836b-f0ec44431443",
        "trusted": true
      },
      "outputs": [],
      "source": [
        "# Создаем диаграмму рассеяния\n",
        "plt.figure(figsize=(12, 8))\n",
        "\n",
        "# Диаграмма рассеяния с цветовым кодированием по выживаемости\n",
        "scatter = plt.scatter(df['Age'], df['Fare'],\n",
        "                     c=df['Survived'],\n",
        "                     alpha=0.6,\n",
        "                     cmap='viridis',\n",
        "                     s=30)\n",
        "\n",
        "plt.colorbar(scatter, label='Выживаемость (0-погиб, 1-выжил)')\n",
        "plt.title('Диаграмма рассеяния: Возраст vs Цена билета', fontsize=14, fontweight='bold')\n",
        "plt.xlabel('Возраст (лет)', fontsize=12)\n",
        "plt.ylabel('Цена билета (£)', fontsize=12)\n",
        "plt.grid(True, alpha=0.3)\n",
        "\n",
        "# Добавляем линию тренда (исключая NaN значения)\n",
        "age_clean = df['Age'].dropna()\n",
        "fare_clean = df['Fare'].dropna()\n",
        "if len(age_clean) == len(fare_clean):\n",
        "    z = np.polyfit(age_clean, fare_clean, 1)\n",
        "    p = np.poly1d(z)\n",
        "    plt.plot(age_clean, p(age_clean), \"r--\", alpha=0.8, linewidth=2, label='Линия тренда')\n",
        "\n",
        "plt.legend()\n",
        "plt.tight_layout()\n",
        "plt.show()\n"
      ]
    },
    {
      "cell_type": "markdown",
      "metadata": {
        "id": "PL6nL9hW_0u4"
      },
      "source": [
        "ИНТЕРПРЕТАЦИЯ РЕЗУЛЬТАТОВ:\n",
        "\n",
        "1. Характер распределения:\n",
        "Большинство точек сосредоточено в левом нижнем углу (молодые пассажиры с недорогими билетами)\n",
        "\n",
        "Наблюдается \"вертикальный\" разброс - для одного возраста могут быть билеты разной стоимости\n",
        "\n",
        "2. Корреляция:\n",
        "Слабая положительная/отрицательная корреляция (значение покажет расчет)\n",
        "\n",
        "Возраст слабо влияет на цену билета\n",
        "\n",
        "3. Кластеры и закономерности:\n",
        "Низкая стоимость (£0-50) - все возраста, преимущественно 3-й класс\n",
        "\n",
        "Средняя стоимость (£50-100) - равномерное распределение по возрастам\n",
        "\n",
        "Высокая стоимость (£100+) - в основном взрослые пассажиры (30-50 лет)\n",
        "\n",
        "4. Выбросы:\n",
        "Дорогие билеты (£200-500) у пассажиров разных возрастов\n",
        "\n",
        "Несколько очень дорогих билетов у пассажиров 20-40 лет\n",
        "\n",
        "5. Связь с выживаемостью:\n",
        "Визуально нет четкой зависимости выживаемости от возраста и цены билета\n",
        "\n",
        "Выжившие и погибшие равномерно распределены по диаграмме\n",
        "\n",
        "ВЫВОД: Между возрастом и ценой билета нет сильной линейной зависимости. Цена билета определяется скорее классом каюты и социальным статусом, чем возрастом пассажира."
      ]
    },
    {
      "cell_type": "markdown",
      "metadata": {
        "id": "6zkrF4F05_mh"
      },
      "source": [
        "8. Отнормируйте значения признаков \"Возраст\" и \"Цена билета\". Выведите на экран полученный датасет."
      ]
    },
    {
      "cell_type": "code",
      "execution_count": null,
      "metadata": {
        "colab": {
          "base_uri": "https://localhost:8080/"
        },
        "executionInfo": {
          "elapsed": 16,
          "status": "ok",
          "timestamp": 1760466820892,
          "user": {
            "displayName": "B-Produce",
            "userId": "16979600547477612933"
          },
          "user_tz": -180
        },
        "id": "Y7R5N0Mu6TdL",
        "outputId": "fb509390-afe3-425c-e592-03f7a59949b0",
        "trusted": true
      },
      "outputs": [],
      "source": [
        "df_normalized = df.copy()\n",
        "\n",
        "# 1. Min-Max нормирование (приведение к диапазону [0, 1])\n",
        "df_normalized['Age_minmax'] = (df['Age'] - df['Age'].min()) / (df['Age'].max() - df['Age'].min())\n",
        "df_normalized['Fare_minmax'] = (df['Fare'] - df['Fare'].min()) / (df['Fare'].max() - df['Fare'].min())\n",
        "\n",
        "# 2. Z-score нормирование (стандартизация)\n",
        "df_normalized['Age_zscore'] = (df['Age'] - df['Age'].mean()) / df['Age'].std()\n",
        "df_normalized['Fare_zscore'] = (df['Fare'] - df['Fare'].mean()) / df['Fare'].std()\n",
        "\n",
        "print(\"\\n\" + \"=\"*60)\n",
        "print(\"=== ДАТАСЕТ ПОСЛЕ НОРМИРОВАНИЯ ===\")\n",
        "print(\"\\nПервые 10 строк с нормированными признаками:\")\n",
        "columns_to_show = ['Age', 'Age_minmax', 'Age_zscore', 'Fare', 'Fare_minmax', 'Fare_zscore']\n",
        "print(df_normalized[columns_to_show].head(10).round(4))\n",
        "\n",
        "print(\"\\n=== СТАТИСТИКА ПОСЛЕ НОРМИРОВАНИЯ ===\")\n",
        "print(\"Min-Max нормирование [0, 1]:\")\n",
        "print(f\"  Age_minmax:  Мин={df_normalized['Age_minmax'].min():.4f}, Макс={df_normalized['Age_minmax'].max():.4f}\")\n",
        "print(f\"  Fare_minmax: Мин={df_normalized['Fare_minmax'].min():.4f}, Макс={df_normalized['Fare_minmax'].max():.4f}\")\n",
        "\n",
        "print(\"\\nZ-score нормирование (стандартизация):\")\n",
        "print(f\"  Age_zscore:  Среднее={df_normalized['Age_zscore'].mean():.4f}, Std={df_normalized['Age_zscore'].std():.4f}\")\n",
        "print(f\"  Fare_zscore: Среднее={df_normalized['Fare_zscore'].mean():.4f}, Std={df_normalized['Fare_zscore'].std():.4f}\")\n",
        "\n",
        "print(\"\\n\" + \"=\"*60)\n",
        "print(\"=== ФИНАЛЬНЫЙ ДАТАСЕТ (все столбцы) ===\")\n",
        "print(f\"Столбцы: {list(df_normalized.columns)}\")\n",
        "print(f\"Размер: {df_normalized.shape}\")\n",
        "print(\"\\nПервые 5 строк всего датасета:\")\n",
        "print(df_normalized.head())\n",
        "\n",
        "df = df_normalized"
      ]
    },
    {
      "cell_type": "markdown",
      "metadata": {
        "id": "JCPc6ZFT65H5"
      },
      "source": [
        "9. Постройте гистограммы распределения пассажиров по полу и по возрасту для каждого класса. Расположите гистограммы одна под другой. Оси абсцисс должны быть однаковыми."
      ]
    },
    {
      "cell_type": "code",
      "execution_count": null,
      "metadata": {
        "colab": {
          "base_uri": "https://localhost:8080/",
          "height": 1000
        },
        "executionInfo": {
          "elapsed": 226,
          "status": "ok",
          "timestamp": 1760466821119,
          "user": {
            "displayName": "B-Produce",
            "userId": "16979600547477612933"
          },
          "user_tz": -180
        },
        "id": "ypDn2pD67BQg",
        "outputId": "a6c329f7-49db-431b-8d1b-99fb0979c9b8",
        "trusted": true
      },
      "outputs": [],
      "source": [
        "# Создаем фигуру с двумя подграфиками (одна под другой)\n",
        "fig, (ax1, ax2) = plt.subplots(2, 1, figsize=(14, 10))\n",
        "\n",
        "# 1. Гистограмма распределения по полу для каждого класса\n",
        "class_colors = {1: 'gold', 2: 'lightblue', 3: 'lightcoral'}\n",
        "class_labels = {1: '1-й класс', 2: '2-й класс', 3: '3-й класс'}\n",
        "\n",
        "# Подготовка данных для гистограммы по полу (используем one-hot encoded столбцы)\n",
        "sex_class_data = []\n",
        "for pclass in [1, 2, 3]:\n",
        "    class_data = df[df['Pclass'] == pclass]\n",
        "    male_count = class_data['Sex_male'].sum() if 'Sex_male' in class_data.columns else len(class_data[class_data['Sex'] == 'male'])\n",
        "    female_count = class_data['Sex_female'].sum() if 'Sex_female' in class_data.columns else len(class_data[class_data['Sex'] == 'female'])\n",
        "    sex_class_data.append([male_count, female_count])\n",
        "\n",
        "sex_class_data = np.array(sex_class_data)\n",
        "\n",
        "# Построение гистограммы по полу\n",
        "bar_width = 0.35\n",
        "x_pos = np.arange(3)\n",
        "\n",
        "bars1 = ax1.bar(x_pos - bar_width/2, sex_class_data[:, 0], bar_width,\n",
        "                label='Мужчины', color='steelblue', alpha=0.8)\n",
        "bars2 = ax1.bar(x_pos + bar_width/2, sex_class_data[:, 1], bar_width,\n",
        "                label='Женщины', color='lightpink', alpha=0.8)\n",
        "\n",
        "ax1.set_title('Распределение пассажиров по полу для каждого класса', fontsize=14, fontweight='bold')\n",
        "ax1.set_xlabel('Класс', fontsize=12)\n",
        "ax1.set_ylabel('Количество пассажиров', fontsize=12)\n",
        "ax1.set_xticks(x_pos)\n",
        "ax1.set_xticklabels(['1-й класс', '2-й класс', '3-й класс'])\n",
        "ax1.legend()\n",
        "ax1.grid(True, alpha=0.3, axis='y')\n",
        "\n",
        "# Добавляем подписи значений на столбцах\n",
        "for i, (male, female) in enumerate(sex_class_data):\n",
        "    ax1.text(i - bar_width/2, male + 3, str(int(male)), ha='center', va='bottom', fontweight='bold', fontsize=10)\n",
        "    ax1.text(i + bar_width/2, female + 3, str(int(female)), ha='center', va='bottom', fontweight='bold', fontsize=10)\n",
        "\n",
        "# 2. Гистограмма распределения по возрасту для каждого класса\n",
        "# Определяем общие границы для оси X (возраст)\n",
        "age_min = 0\n",
        "age_max = 80\n",
        "bins = np.linspace(age_min, age_max, 16)\n",
        "\n",
        "# Строим гистограммы для каждого класса\n",
        "colors = ['gold', 'lightblue', 'lightcoral']\n",
        "for i, pclass in enumerate([1, 2, 3]):\n",
        "    class_age_data = df[df['Pclass'] == pclass]['Age'].dropna()\n",
        "    ax2.hist(class_age_data, bins=bins, alpha=0.7,\n",
        "             label=class_labels[pclass], color=colors[i],\n",
        "             edgecolor='black', linewidth=0.5, density=True)\n",
        "\n",
        "ax2.set_title('Распределение пассажиров по возрасту для каждого класса (нормированное)',\n",
        "              fontsize=14, fontweight='bold')\n",
        "ax2.set_xlabel('Возраст (лет)', fontsize=12)\n",
        "ax2.set_ylabel('Плотность распределения', fontsize=12)\n",
        "ax2.legend()\n",
        "ax2.grid(True, alpha=0.3)\n",
        "\n",
        "# Устанавливаем одинаковые пределы для оси X\n",
        "ax2.set_xlim(age_min, age_max)\n",
        "\n",
        "# Настраиваем внешний вид\n",
        "plt.tight_layout()\n",
        "plt.show()"
      ]
    },
    {
      "cell_type": "markdown",
      "metadata": {
        "id": "37NMecFT7B_0"
      },
      "source": [
        "10. Сделайте выводы по работе."
      ]
    },
    {
      "cell_type": "markdown",
      "metadata": {
        "id": "3ZBiBHaS_0u5"
      },
      "source": [
        "1. Углубил знания Pandas, Matplotlib и Numpy\n",
        "2. Провёл анализа датасета по титанику\n",
        "3. Не имею понятия, как проверить задачу по Numpy"
      ]
    }
  ],
  "metadata": {
    "colab": {
      "provenance": []
    },
    "kernelspec": {
      "display_name": ".venv",
      "language": "python",
      "name": "python3"
    },
    "language_info": {
      "codemirror_mode": {
        "name": "ipython",
        "version": 3
      },
      "file_extension": ".py",
      "mimetype": "text/x-python",
      "name": "python",
      "nbconvert_exporter": "python",
      "pygments_lexer": "ipython3",
      "version": "3.12.10"
    }
  },
  "nbformat": 4,
  "nbformat_minor": 4
}
